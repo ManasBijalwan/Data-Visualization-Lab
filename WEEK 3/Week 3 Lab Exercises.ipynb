{
 "cells": [
  {
   "cell_type": "markdown",
   "id": "cc826892-f80b-47b7-bfdc-9675950c467b",
   "metadata": {},
   "source": [
    "Data Visuaization BTech Computer Science Stream;\n",
    "January 2025 Week 3 Lab Exercises-NumPy basics and vectorized computation Exercises\n",
    "Name: Manas Bijalwan;\n",
    "Reg Number- 240905402; \n",
    "Date: 30/01/2025"
   ]
  },
  {
   "cell_type": "code",
   "execution_count": 16,
   "id": "4040efc4-d53d-4f50-854b-c78d8acf3ab0",
   "metadata": {},
   "outputs": [],
   "source": [
    "# Data Visuaization\n",
    "# BTech Computer Science Stream, January 2025\n",
    "# Week 3 Lab Exercises- NumPy basics and vectorized computation Exercises\n",
    "# Name: Manas Bijalwan, Reg Number- 240905402, Date: 30/01/2025"
   ]
  },
  {
   "cell_type": "code",
   "execution_count": 17,
   "id": "38dbcc80-5df5-4bb1-aac3-55b85d5e5194",
   "metadata": {},
   "outputs": [],
   "source": [
    "import numpy as np"
   ]
  },
  {
   "cell_type": "code",
   "execution_count": 18,
   "id": "3251c546-04b1-4945-8bef-da4e15d1c217",
   "metadata": {},
   "outputs": [
    {
     "name": "stdout",
     "output_type": "stream",
     "text": [
      "[[50 18 47 18]\n",
      " [ 1 13  7  2]\n",
      " [25 45 42 35]]\n"
     ]
    }
   ],
   "source": [
    "# Q1. \n",
    "\n",
    "# Generate a 3x4 NumPy array with random integers between 1 and 50. \n",
    "\n",
    "arr_a=np.random.randint(1,51,(3,4))\n",
    "print(arr_a)"
   ]
  },
  {
   "cell_type": "code",
   "execution_count": 19,
   "id": "1f02c391-7767-4641-a552-0090f23812df",
   "metadata": {},
   "outputs": [
    {
     "name": "stdout",
     "output_type": "stream",
     "text": [
      "Mean:  25.25\n",
      "Median: 21.5\n",
      "Standrd Deviation:  17.243960295322726\n"
     ]
    }
   ],
   "source": [
    "# a. Calculate and print the Mean, Median, and Standard Deviation\n",
    "\n",
    "# Calculating Mean\n",
    "var_mean=np.mean(arr_a)\n",
    "print(\"Mean: \",var_mean)\n",
    "\n",
    "# Calculating Median\n",
    "var_median=np.median(arr_a)\n",
    "print(\"Median:\",var_median)\n",
    "\n",
    "# Calculating Standard Deviation\n",
    "var_std_dev=np.std(arr_a)\n",
    "print(\"Standrd Deviation: \",var_std_dev)"
   ]
  },
  {
   "cell_type": "code",
   "execution_count": 20,
   "id": "e45ede81-a7b1-47bd-86a6-86d45d90a979",
   "metadata": {},
   "outputs": [
    {
     "name": "stdout",
     "output_type": "stream",
     "text": [
      "Sum:  303\n",
      "Sum of Rows:  [133  23 147]\n"
     ]
    }
   ],
   "source": [
    "# b. Print the Sum of all elements and the sum of each row.\n",
    "\n",
    "#Calculating and printing sum\n",
    "var_sum=np.sum(arr_a)\n",
    "print(\"Sum: \",var_sum)\n",
    "\n",
    "#Calculating and printing sum of rows\n",
    "var_sum_row=np.sum(arr_a,axis=1)\n",
    "print(\"Sum of Rows: \",var_sum_row)"
   ]
  },
  {
   "cell_type": "code",
   "execution_count": 21,
   "id": "040a6694-912e-4581-af55-e1cf46f9a588",
   "metadata": {},
   "outputs": [
    {
     "name": "stdout",
     "output_type": "stream",
     "text": [
      "[[50 18 47 18  1 13]\n",
      " [ 7  2 25 45 42 35]]\n"
     ]
    }
   ],
   "source": [
    "# c. Reshape the 3x4 array into a 2x6 array and print it.\n",
    "\n",
    "arr_a=arr_a.reshape(2,6)\n",
    "print(arr_a)"
   ]
  },
  {
   "cell_type": "code",
   "execution_count": 22,
   "id": "9f729e75-7d4a-4ff7-b9a2-c32531d6ef2d",
   "metadata": {},
   "outputs": [
    {
     "name": "stdout",
     "output_type": "stream",
     "text": [
      "Matrix 1: \n",
      " [[38 31 40]\n",
      " [34 37 31]\n",
      " [11 14  2]]\n",
      "\n",
      "\n",
      "\n",
      "Matrix 2: \n",
      "\n",
      "\n",
      " [[27 29 30]\n",
      " [ 6  9 44]\n",
      " [37 38 40]]\n"
     ]
    }
   ],
   "source": [
    "# Q2.\n",
    "\n",
    "# Create two (3 * 3) matrices using NumPy and print it. Perform\n",
    "# and print the results of the following linear algebra operations.\n",
    "\n",
    "\n",
    "arr_c=np.random.randint(1,51,(3,3))\n",
    "arr_d=np.random.randint(1,51,(3,3))\n",
    "print(\"Matrix 1: \\n\",arr_c)\n",
    "print(\"\\n\\n\")\n",
    "print(\"Matrix 2: \\n\\n\\n\",arr_d)"
   ]
  },
  {
   "cell_type": "code",
   "execution_count": 23,
   "id": "18e5420e-cd0c-41c1-ab58-f769040ff45c",
   "metadata": {},
   "outputs": [
    {
     "name": "stdout",
     "output_type": "stream",
     "text": [
      "Sum of Matrix 1 and Matrix 2: \n",
      "\n",
      "\n",
      " [[65 60 70]\n",
      " [40 46 75]\n",
      " [48 52 42]]\n"
     ]
    }
   ],
   "source": [
    "# a. Matrix addition\n",
    "\n",
    "arr_sum=np.add(arr_c,arr_d)\n",
    "print(\"Sum of Matrix 1 and Matrix 2: \\n\\n\\n\",arr_sum)"
   ]
  },
  {
   "cell_type": "code",
   "execution_count": 24,
   "id": "2b1e2d91-9ac9-448b-a999-2c3d4a7eb382",
   "metadata": {},
   "outputs": [
    {
     "name": "stdout",
     "output_type": "stream",
     "text": [
      "Difference of Matrix 1 and Matrix 2 Matrix 1 - Matrix 2: \n",
      "\n",
      "\n",
      " [[ 11   2  10]\n",
      " [ 28  28 -13]\n",
      " [-26 -24 -38]]\n",
      "\n",
      "\n",
      "\n",
      "Difference of Matrix 2 and Matrix 1 Matrix 2 - Matrix 1: \n",
      "\n",
      "\n",
      " [[-11  -2 -10]\n",
      " [-28 -28  13]\n",
      " [ 26  24  38]]\n"
     ]
    }
   ],
   "source": [
    "# b. Matrix subtraction\n",
    "\n",
    "#Matrix 1- Matrix 2\n",
    "arr_subtract_c_d=np.subtract(arr_c,arr_d)\n",
    "print(\"Difference of Matrix 1 and Matrix 2 Matrix 1 - Matrix 2: \\n\\n\\n\",arr_subtract_c_d)\n",
    "print(\"\\n\\n\")\n",
    "\n",
    "# Matrix2-Matrix1\n",
    "arr_subtract_d_c=np.subtract(arr_d,arr_c)\n",
    "print(\"Difference of Matrix 2 and Matrix 1 Matrix 2 - Matrix 1: \\n\\n\\n\",arr_subtract_d_c)"
   ]
  },
  {
   "cell_type": "code",
   "execution_count": 25,
   "id": "c54e329c-d443-4c8c-8aaa-fcb0a7038e0b",
   "metadata": {},
   "outputs": [
    {
     "name": "stdout",
     "output_type": "stream",
     "text": [
      "Multiplication Matrix 1X Matrix 2: \n",
      "\n",
      "\n",
      " [[1026  899 1200]\n",
      " [ 204  333 1364]\n",
      " [ 407  532   80]]\n",
      "\n",
      "\n",
      "\n",
      "Multiplication Matrix 2XMatrix 1: \n",
      "\n",
      "\n",
      " [[1026  899 1200]\n",
      " [ 204  333 1364]\n",
      " [ 407  532   80]]\n",
      "\n",
      "\n",
      "\n",
      "Dot Product : Matrix 1.Matrix 2: \n",
      "\n",
      "\n",
      " [[2692 2901 4104]\n",
      " [2287 2497 3888]\n",
      " [ 455  521 1026]]\n"
     ]
    }
   ],
   "source": [
    "# Matrix multiplication (element-wise and dot product)\n",
    "\n",
    "# Element Wise\n",
    "# Matrix1 X Matrix2\n",
    "arr_multiply_c_d=np.multiply(arr_c,arr_d)\n",
    "print(\"Multiplication Matrix 1X Matrix 2: \\n\\n\\n\",arr_multiply_c_d)\n",
    "print(\"\\n\\n\")\n",
    "\n",
    "# Matrix2 X Matrix1\n",
    "arr_multiply_d_c=np.multiply(arr_d,arr_c)\n",
    "print(\"Multiplication Matrix 2XMatrix 1: \\n\\n\\n\",arr_multiply_d_c)\n",
    "print(\"\\n\\n\")\n",
    "\n",
    "\n",
    "# Dot Product(Inner Product of Matrix1.Matrix2)\n",
    "arr_dot=np.dot(arr_c,arr_d)\n",
    "print(\"Dot Product : Matrix 1.Matrix 2: \\n\\n\\n\",arr_dot)"
   ]
  },
  {
   "cell_type": "code",
   "execution_count": 26,
   "id": "87d4b7eb-ab24-47ae-8665-163fef463b16",
   "metadata": {},
   "outputs": [
    {
     "name": "stdout",
     "output_type": "stream",
     "text": [
      "Transpose of Matrix 1: \n",
      "\n",
      "\n",
      " [[38 34 11]\n",
      " [31 37 14]\n",
      " [40 31  2]]\n",
      "\n",
      "\n",
      "\n",
      "Transpose of Matrix 2: \n",
      "\n",
      "\n",
      " [[27  6 37]\n",
      " [29  9 38]\n",
      " [30 44 40]]\n"
     ]
    }
   ],
   "source": [
    "# d. Transpose of a matrix\n",
    "\n",
    "arr_transpose_c=arr_c.transpose()\n",
    "print(\"Transpose of Matrix 1: \\n\\n\\n\",arr_transpose_c)\n",
    "print(\"\\n\\n\")\n",
    "arr_transpose_d=arr_d.transpose()\n",
    "print(\"Transpose of Matrix 2: \\n\\n\\n\",arr_transpose_d)"
   ]
  },
  {
   "cell_type": "code",
   "execution_count": 27,
   "id": "61107a08-70d0-49b8-9829-626973703a6d",
   "metadata": {
    "scrolled": true
   },
   "outputs": [
    {
     "name": "stdout",
     "output_type": "stream",
     "text": [
      "Determinant of Matrix 1:  -2457.0000000000036\n",
      "Determinant of Matrix 2:  1677.9999999999952\n",
      "Inverse of Matrix 1: \n",
      "\n",
      "\n",
      " [[ 0.14652015 -0.2026862   0.21123321]\n",
      " [-0.11111111  0.14814815 -0.07407407]\n",
      " [-0.02808303  0.07773708 -0.14326414]]\n",
      "\n",
      "\n",
      "\n",
      "Inverse of Matrix 2: \n",
      "\n",
      "\n",
      " [[-0.78188319 -0.01191895  0.59952324]\n",
      " [ 0.82717521 -0.01787843 -0.60071514]\n",
      " [-0.06257449  0.02800954  0.04112038]]\n",
      "\n",
      "\n",
      "\n"
     ]
    }
   ],
   "source": [
    "# e. Determinant and inverse (if applicable)\n",
    "\n",
    "# Determinant \n",
    "var_det_c=np.linalg.det(arr_c)\n",
    "print(\"Determinant of Matrix 1: \",var_det_c)\n",
    "var_det_d=np.linalg.det(arr_d)\n",
    "print(\"Determinant of Matrix 2: \",var_det_d)\n",
    "\n",
    "\n",
    "# Checking if inverse is possible and printing it\n",
    "if(var_det_c==0):\n",
    "    print(\"Inverse not possible for Matrix 1\")\n",
    "    print(\"\\n\\n\")\n",
    "else:\n",
    "    arr_inverse_c=np.linalg.inv(arr_c)\n",
    "    print(\"Inverse of Matrix 1: \\n\\n\\n\",arr_inverse_c)\n",
    "    print(\"\\n\\n\")\n",
    "if(var_det_d==0):\n",
    "    print(\"Inverse not possible for Matrix 2\")\n",
    "    print(\"\\n\\n\")\n",
    "else:\n",
    "    arr_inverse_d=np.linalg.inv(arr_d)\n",
    "    print(\"Inverse of Matrix 2: \\n\\n\\n\",arr_inverse_d)\n",
    "    print(\"\\n\\n\")"
   ]
  }
 ],
 "metadata": {
  "kernelspec": {
   "display_name": "Python 3 (ipykernel)",
   "language": "python",
   "name": "python3"
  },
  "language_info": {
   "codemirror_mode": {
    "name": "ipython",
    "version": 3
   },
   "file_extension": ".py",
   "mimetype": "text/x-python",
   "name": "python",
   "nbconvert_exporter": "python",
   "pygments_lexer": "ipython3",
   "version": "3.13.1"
  }
 },
 "nbformat": 4,
 "nbformat_minor": 5
}
