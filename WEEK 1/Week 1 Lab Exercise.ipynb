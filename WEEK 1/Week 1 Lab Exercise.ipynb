{
 "cells": [
  {
   "cell_type": "markdown",
   "id": "3f34ab23",
   "metadata": {},
   "source": [
    "Data Visuaization BTech Computer Science Stream;\n",
    "January 2025 Week 1 Lab Exercise-Python Language Basics;\n",
    "Name: Manas Bijalwan;\n",
    "Reg Number- 240905402; \n",
    "Date: 16/01/2025"
   ]
  },
  {
   "cell_type": "code",
   "execution_count": 1,
   "id": "ef40d4fe",
   "metadata": {},
   "outputs": [],
   "source": [
    "# Data Visuaization\n",
    "# BTech Computer Science Stream, January 2025\n",
    "# Week 1 Lab Exercises- Python Language Basics\n",
    "# Name: Manas Bijalwan, Reg Number- 240905402, Date: 09/01/2025"
   ]
  },
  {
   "cell_type": "code",
   "execution_count": 17,
   "id": "fa3f78f2",
   "metadata": {},
   "outputs": [],
   "source": [
    "# 1. Write a Python function to input two numbers and perform the Calculator operations of (+, -, *, /).\n",
    "\n",
    "# Function definition:\n",
    "def Calculator(var_a,var_b,var_operator):\n",
    "    var_result=\"Null\"\n",
    "    if(var_operator=='+'):\n",
    "        var_result=var_a+var_b\n",
    "    elif(var_operator=='-'):\n",
    "        var_result=var_a-var_b\n",
    "    elif(var_operator=='*'):\n",
    "        var_result=var_a*var_b\n",
    "    elif(var_operator=='/'):\n",
    "        var_result=var_a/var_b\n",
    "    else:\n",
    "        print(\"Invalid Operation\")\n",
    "    return var_result"
   ]
  },
  {
   "cell_type": "code",
   "execution_count": 20,
   "id": "ffd38bd1",
   "metadata": {},
   "outputs": [
    {
     "name": "stdin",
     "output_type": "stream",
     "text": [
      "Enter the first number:  34\n",
      "Enter the second number:  11\n",
      "Enter the operation:  -\n"
     ]
    },
    {
     "name": "stdout",
     "output_type": "stream",
     "text": [
      "The result is:  23\n"
     ]
    }
   ],
   "source": [
    "# Invoking the Calculator function in the program.\n",
    "\n",
    "var_a=int(input(\"Enter the first number: \"))\n",
    "var_b=int(input(\"Enter the second number: \"))\n",
    "var_operator=input(\"Enter the operation: \")\n",
    "var_output=Calculator(var_a,var_b,var_operator)\n",
    "print(\"The result is: \",var_output)"
   ]
  },
  {
   "cell_type": "code",
   "execution_count": 21,
   "id": "d9ada4cb",
   "metadata": {},
   "outputs": [],
   "source": [
    "# 2. Write a Python function that takes an integer and returns True if it’s a prime number and False otherwise.\n",
    "\n",
    "def isPrime(var_x):\n",
    "    for i in range(2,var_x):\n",
    "        if(var_x%i==0):\n",
    "            return False\n",
    "        else:\n",
    "            return True"
   ]
  },
  {
   "cell_type": "code",
   "execution_count": 23,
   "id": "0dbf3869",
   "metadata": {},
   "outputs": [
    {
     "name": "stdin",
     "output_type": "stream",
     "text": [
      "Enter the number:  44\n"
     ]
    },
    {
     "name": "stdout",
     "output_type": "stream",
     "text": [
      "The number is not a prime number\n"
     ]
    }
   ],
   "source": [
    "# Invoking the isPrime function in a program.\n",
    "\n",
    "var_x=int(input(\"Enter the number: \"))\n",
    "if(isPrime(var_x)==True):\n",
    "    print(\"The number is a prime number\")\n",
    "elif(var_x==1):\n",
    "    print(\"The number is niether prime nor composite\")\n",
    "else:\n",
    "    print(\"The number is not a prime number\")"
   ]
  },
  {
   "cell_type": "code",
   "execution_count": 24,
   "id": "a4f7d726",
   "metadata": {},
   "outputs": [
    {
     "name": "stdout",
     "output_type": "stream",
     "text": [
      "[1, 3, 5, 7, 9, 11, 13, 15, 17, 19, 21, 23, 25, 27, 29, 31, 33, 35, 37, 39, 41, 43, 45, 47, 49, 51, 53, 55, 57, 59, 61, 63, 65, 67, 69, 71, 73, 75, 77, 79, 81, 83, 85, 87, 89, 91, 93, 95, 97, 99]\n",
      "The sum of all even numbers between 1 and 100 is:  2550\n"
     ]
    }
   ],
   "source": [
    "# 3. Create a Python function that creates a sequence between 1 and 100 and prints all the odd numbers. Compute and display the sum of all the even numbers.\n",
    "\n",
    "var_seqA=[]\n",
    "var_sum=0\n",
    "for i in range(1,101):\n",
    "    if(not(i%2==0)):\n",
    "        var_seqA.append(i)\n",
    "    elif(i%2==0):\n",
    "        var_sum=var_sum+i\n",
    "print(var_seqA)\n",
    "print(\"The sum of all even numbers between 1 and 100 is: \",var_sum)"
   ]
  },
  {
   "cell_type": "code",
   "execution_count": 25,
   "id": "73d68c62",
   "metadata": {},
   "outputs": [],
   "source": [
    "# 4. Write a Python function to add two elements and display the result. The elements can be of type integer, float or string.\n",
    "\n",
    "#Function Definition: \n",
    "def Add(a,b):\n",
    "     return a+b"
   ]
  },
  {
   "cell_type": "code",
   "execution_count": 33,
   "id": "247b4aaa",
   "metadata": {},
   "outputs": [
    {
     "name": "stdout",
     "output_type": "stream",
     "text": [
      "Enter Elements to add: \n",
      "\t1.Integer\n",
      "        2.Float\n",
      "        3.String\n"
     ]
    },
    {
     "name": "stdin",
     "output_type": "stream",
     "text": [
      "Enter choice:  csjc\n"
     ]
    },
    {
     "name": "stdout",
     "output_type": "stream",
     "text": [
      "Invalid Input\n"
     ]
    }
   ],
   "source": [
    "#4. Invoking function Add in the program: \n",
    "\n",
    "print(\"Enter Elements to add: \")\n",
    "print(\"\"\"\\t1.Integer\n",
    "        2.Float\n",
    "        3.String\"\"\")\n",
    "choice=input(\"Enter choice: \")\n",
    "\n",
    "if(choice=='1'):\n",
    "    var_a=int(input())\n",
    "    var_b=int(input())\n",
    "    print(\"The answer is: \",Add(var_a,var_b))\n",
    "elif(choice=='2'):\n",
    "    var_a=float((input()))\n",
    "    var_b=float(input())\n",
    "    print(\"The answer is: \",Add(var_a,var_b))\n",
    "elif(choice=='3'):\n",
    "    var_a=(input())\n",
    "    var_b=(input())\n",
    "    print(\"The answer is: \",Add(var_a,var_b))\n",
    "else:\n",
    "    print(\"Invalid Input\")"
   ]
  },
  {
   "cell_type": "code",
   "execution_count": 34,
   "id": "3dbefbd2",
   "metadata": {},
   "outputs": [],
   "source": [
    "# 5. Write a Python function that takes a string input from the user and counts the number of vowels and consonants in the string.\n",
    "\n",
    "# Function definition:\n",
    "\n",
    "def Vowel(x):\n",
    "    var_count1=0\n",
    "    var_count2=0\n",
    "    var_seqVowel=\"aeiouAEIOU\"\n",
    "    for i in x:\n",
    "        if(i in var_seqVowel):\n",
    "            var_count1+=1\n",
    "        elif(i.isalpha()):\n",
    "            var_count2+=1\n",
    "    return var_count1,var_count2\n"
   ]
  },
  {
   "cell_type": "code",
   "execution_count": 35,
   "id": "b9c06440",
   "metadata": {},
   "outputs": [
    {
     "name": "stdin",
     "output_type": "stream",
     "text": [
      "Enter string:  fhuernf nf\n"
     ]
    },
    {
     "name": "stdout",
     "output_type": "stream",
     "text": [
      "Number of Consonants:  7\n",
      "Number of Vowels=  2\n"
     ]
    }
   ],
   "source": [
    "#5. Invoking the function Vowel in the program\n",
    "\n",
    "var_x=input(\"Enter string: \")\n",
    "var_i,var_j=Vowel(var_x)\n",
    "print(\"Number of Consonants: \",var_j)\n",
    "print(\"Number of Vowels= \",var_i)"
   ]
  }
 ],
 "metadata": {
  "kernelspec": {
   "display_name": "Python 3 (ipykernel)",
   "language": "python",
   "name": "python3"
  },
  "language_info": {
   "codemirror_mode": {
    "name": "ipython",
    "version": 3
   },
   "file_extension": ".py",
   "mimetype": "text/x-python",
   "name": "python",
   "nbconvert_exporter": "python",
   "pygments_lexer": "ipython3",
   "version": "3.13.1"
  }
 },
 "nbformat": 4,
 "nbformat_minor": 5
}
