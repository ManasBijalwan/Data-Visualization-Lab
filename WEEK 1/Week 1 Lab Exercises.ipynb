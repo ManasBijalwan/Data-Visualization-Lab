{
 "cells": [
  {
   "cell_type": "markdown",
   "id": "3f34ab23",
   "metadata": {},
   "source": [
    "Data Visuaization BTech Computer Science Stream;\n",
    "January 2025 Week 1 Lab Exercise-Python Language Basics;\n",
    "Name: Manas Bijalwan;\n",
    "Reg Number- 240905402; \n",
    "Date: 16/01/2025"
   ]
  },
  {
   "cell_type": "code",
   "execution_count": 90,
   "id": "ef40d4fe",
   "metadata": {},
   "outputs": [],
   "source": [
    "# Data Visuaization\n",
    "# BTech Computer Science Stream, January 2025\n",
    "# Week 1 Lab Exercises- Python Language Basics\n",
    "# Name: Manas Bijalwan, Reg Number- 240905402, Date: 16/01/2025"
   ]
  },
  {
   "cell_type": "code",
   "execution_count": 2,
   "id": "fa3f78f2",
   "metadata": {},
   "outputs": [],
   "source": [
    "# 1. Write a Python function to input two numbers and perform the Calculator operations of (+, -, *, /).\n",
    "\n",
    "# Function definition:\n",
    "def Calculator(var_a,var_b,var_operator):\n",
    "    var_result=\"Null\"\n",
    "    if(var_operator=='+'):\n",
    "        var_result=var_a+var_b\n",
    "    elif(var_operator=='-'):\n",
    "        var_result=var_a-var_b\n",
    "    elif(var_operator=='*'):\n",
    "        var_result=var_a*var_b\n",
    "    elif(var_operator=='/'):\n",
    "        var_result=var_a/var_b\n",
    "    else:\n",
    "        print(\"Invalid Operation\")\n",
    "    return var_result"
   ]
  },
  {
   "cell_type": "code",
   "execution_count": 4,
   "id": "ffd38bd1",
   "metadata": {},
   "outputs": [
    {
     "name": "stdin",
     "output_type": "stream",
     "text": [
      "Enter the first number:  12\n",
      "Enter the second number:  11\n",
      "Enter the operation:  /\n"
     ]
    },
    {
     "name": "stdout",
     "output_type": "stream",
     "text": [
      "The result is:  1.0909090909090908\n"
     ]
    }
   ],
   "source": [
    "# Invoking the Calculator function in the program.\n",
    "\n",
    "var_a=int(input(\"Enter the first number: \"))\n",
    "var_b=int(input(\"Enter the second number: \"))\n",
    "var_operator=input(\"Enter the operation: \")\n",
    "var_output=Calculator(var_a,var_b,var_operator)\n",
    "print(\"The result is: \",var_output)"
   ]
  },
  {
   "cell_type": "code",
   "execution_count": 2,
   "id": "d9ada4cb",
   "metadata": {},
   "outputs": [],
   "source": [
    "# 2. Write a Python function that takes an integer and returns True if it’s a prime number and False otherwise.\n",
    "\n",
    "def isPrime(var_x):\n",
    "    var_factorcount=0\n",
    "    for i in range(1,var_x+1):\n",
    "        if(var_x%i==0):\n",
    "            var_factorcount+=1\n",
    "    if(var_factorcount==1):\n",
    "        return False\n",
    "    elif(var_factorcount==2):\n",
    "        return True\n",
    "    else:\n",
    "        return False"
   ]
  },
  {
   "cell_type": "code",
   "execution_count": 3,
   "id": "0dbf3869",
   "metadata": {},
   "outputs": [
    {
     "name": "stdin",
     "output_type": "stream",
     "text": [
      "Enter the number:  4\n"
     ]
    },
    {
     "name": "stdout",
     "output_type": "stream",
     "text": [
      "The number is not a prime number\n"
     ]
    }
   ],
   "source": [
    "# Invoking the isPrime function in a program.\n",
    "\n",
    "var_x=int(input(\"Enter the number: \"))\n",
    "if(isPrime(var_x)==True and var_x!=1):\n",
    "    print(\"The number is a prime number\")\n",
    "elif(isPrime(var_x)==False and var_x==1):\n",
    "    print(\"1 is neither prime nor composite\")\n",
    "elif(isPrime(var_x)==False):\n",
    "    print(\"The number is not a prime number\")"
   ]
  },
  {
   "cell_type": "code",
   "execution_count": 13,
   "id": "a4f7d726",
   "metadata": {},
   "outputs": [],
   "source": [
    "# 3. Create a Python function that creates a sequence between 1 and 100 and prints all the odd numbers. \n",
    "# Compute and display the sum of all the even numbers.\n",
    "\n",
    "def Odd():\n",
    "    var_seqA=[]\n",
    "    var_sum=0\n",
    "    for i in range (1,101):\n",
    "        if(i%2!=0):\n",
    "            var_seqA.append(i)\n",
    "        else:\n",
    "            var_sum+=i\n",
    "    print(var_seqA)\n",
    "    print(\"Sum of all even numbers: \",var_sum)"
   ]
  },
  {
   "cell_type": "code",
   "execution_count": 14,
   "id": "f8012413-e5d9-4b42-84ce-0d477c850d8a",
   "metadata": {},
   "outputs": [
    {
     "name": "stdout",
     "output_type": "stream",
     "text": [
      "[1, 3, 5, 7, 9, 11, 13, 15, 17, 19, 21, 23, 25, 27, 29, 31, 33, 35, 37, 39, 41, 43, 45, 47, 49, 51, 53, 55, 57, 59, 61, 63, 65, 67, 69, 71, 73, 75, 77, 79, 81, 83, 85, 87, 89, 91, 93, 95, 97, 99]\n",
      "Sum of all even numbers:  2550\n"
     ]
    }
   ],
   "source": [
    "Odd()"
   ]
  },
  {
   "cell_type": "code",
   "execution_count": 81,
   "id": "73d68c62",
   "metadata": {},
   "outputs": [],
   "source": [
    "# 4. Write a Python function to add two elements and display the result. The elements can be of type integer, float or string.\n",
    "\n",
    "#Function Definition: \n",
    "def Add(a,b):\n",
    "     return a+b"
   ]
  },
  {
   "cell_type": "code",
   "execution_count": 86,
   "id": "247b4aaa",
   "metadata": {},
   "outputs": [
    {
     "name": "stdout",
     "output_type": "stream",
     "text": [
      "Enter Elements to add: \n",
      "\t1.Integer\n",
      "        2.Float\n",
      "        3.String\n"
     ]
    },
    {
     "name": "stdin",
     "output_type": "stream",
     "text": [
      "Enter choice:  9\n"
     ]
    },
    {
     "name": "stdout",
     "output_type": "stream",
     "text": [
      "Invalid Input\n"
     ]
    }
   ],
   "source": [
    "#4. Invoking function Add in the program: \n",
    "\n",
    "print(\"Enter Elements to add: \")\n",
    "print(\"\"\"\\t1.Integer\n",
    "        2.Float\n",
    "        3.String\"\"\")\n",
    "choice=input(\"Enter choice: \")\n",
    "\n",
    "if(choice=='1'):\n",
    "    var_a=int(input(\"Enter first element: \"))\n",
    "    var_b=int(input(\"Enter second element: \"))\n",
    "    print(\"The answer is: \",Add(var_a,var_b))\n",
    "elif(choice=='2'):\n",
    "    var_a=float((input(\"Enter first element: \")))\n",
    "    var_b=float(input(\"Enter second element: \"))\n",
    "    print(\"The answer is: \",Add(var_a,var_b))\n",
    "elif(choice=='3'):\n",
    "    var_a=(input(\"Enter first element: \"))\n",
    "    var_b=(input(\"Enter second element: \"))\n",
    "    print(\"The answer is: \",Add(var_a,var_b))\n",
    "else:\n",
    "    print(\"Invalid Input\")"
   ]
  },
  {
   "cell_type": "code",
   "execution_count": 88,
   "id": "3dbefbd2",
   "metadata": {},
   "outputs": [],
   "source": [
    "# 5. Write a Python function that takes a string input from the user and counts the number of vowels and consonants in the string.\n",
    "\n",
    "# Function definition:\n",
    "\n",
    "def Vowel(x):\n",
    "    var_count1=0\n",
    "    var_count2=0\n",
    "    var_seqVowel=\"aeiouAEIOU\"\n",
    "    for i in x:\n",
    "        if(i in var_seqVowel):\n",
    "            var_count1+=1\n",
    "        elif(i.isalpha()):\n",
    "            var_count2+=1\n",
    "    return var_count1,var_count2\n"
   ]
  },
  {
   "cell_type": "code",
   "execution_count": 89,
   "id": "b9c06440",
   "metadata": {},
   "outputs": [
    {
     "name": "stdin",
     "output_type": "stream",
     "text": [
      "Enter string:  this is a test string\n"
     ]
    },
    {
     "name": "stdout",
     "output_type": "stream",
     "text": [
      "Number of Consonants:  12\n",
      "Number of Vowels=  5\n"
     ]
    }
   ],
   "source": [
    "#5. Invoking the function Vowel in the program\n",
    "\n",
    "var_x=input(\"Enter string: \")\n",
    "var_i,var_j=Vowel(var_x)\n",
    "print(\"Number of Consonants: \",var_j)\n",
    "print(\"Number of Vowels= \",var_i)"
   ]
  }
 ],
 "metadata": {
  "kernelspec": {
   "display_name": "Python 3 (ipykernel)",
   "language": "python",
   "name": "python3"
  },
  "language_info": {
   "codemirror_mode": {
    "name": "ipython",
    "version": 3
   },
   "file_extension": ".py",
   "mimetype": "text/x-python",
   "name": "python",
   "nbconvert_exporter": "python",
   "pygments_lexer": "ipython3",
   "version": "3.13.1"
  }
 },
 "nbformat": 4,
 "nbformat_minor": 5
}
