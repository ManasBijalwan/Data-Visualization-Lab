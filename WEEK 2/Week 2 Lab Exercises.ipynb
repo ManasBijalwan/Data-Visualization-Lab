{
 "cells": [
  {
   "cell_type": "markdown",
   "id": "7babdcc5-c946-43be-ba44-5348c30c2cab",
   "metadata": {},
   "source": [
    "Data Visuaization BTech Computer Science Stream;\n",
    "January 2025 Week 2 Lab Exercise-Python built-in Data structures, Functions, modules,\n",
    "packages;\n",
    "Name: Manas Bijalwan;\n",
    "Reg Number- 240905402; \n",
    "Date: 23/01/2025"
   ]
  },
  {
   "cell_type": "code",
   "execution_count": null,
   "id": "9321e828-0b8d-4679-9cdf-bf6423cc7ece",
   "metadata": {},
   "outputs": [],
   "source": [
    "# Data Visuaization\n",
    "# BTech Computer Science Stream, January 2025\n",
    "# Week 2 Lab Exercises- Python built-in Data structures, Functions, modules, packages\n",
    "# Name: Manas Bijalwan, Reg Number- 240905402, Date: 23/01/2025"
   ]
  },
  {
   "cell_type": "code",
   "execution_count": 1,
   "id": "9a2c4d98",
   "metadata": {},
   "outputs": [
    {
     "name": "stdin",
     "output_type": "stream",
     "text": [
      "Enter the numbers:  1 2 3 1 4 5\n"
     ]
    },
    {
     "name": "stdout",
     "output_type": "stream",
     "text": [
      "Largest Number:  5\n",
      "Smallest Number: 1\n",
      "Sum= 16\n",
      "Average=  2.6666666666666665\n"
     ]
    },
    {
     "name": "stdin",
     "output_type": "stream",
     "text": [
      "Enter the number for which occurence is needed:  1\n"
     ]
    },
    {
     "name": "stdout",
     "output_type": "stream",
     "text": [
      "Occurences=  2\n"
     ]
    }
   ],
   "source": [
    "#Question 1\n",
    "\n",
    "# Write a Python code block that inputs numbers into a list. Print\n",
    "# the largest, smallest, the sum, and the average of the numbers.\n",
    "# Count occurrences of a specific number in the list.\n",
    "\n",
    "# Accepting a list \n",
    "var_seqA=input(\"Enter the numbers: \").split()\n",
    "for i in range(len(var_seqA)):\n",
    "    var_seqA[i]=int(var_seqA[i])\n",
    "\n",
    "# Operations and printing the result\n",
    "sum=0  \n",
    "large=var_seqA[0]\n",
    "small=var_seqA[0]\n",
    "for i in var_seqA:\n",
    "    if i>large:\n",
    "        large=i\n",
    "    elif i<small:\n",
    "        small=i\n",
    "    sum+=i\n",
    "print(\"Largest Number: \",large)\n",
    "print(\"Smallest Number:\",small)\n",
    "print(\"Sum=\",sum)\n",
    "avg=sum/len(var_seqA)\n",
    "print(\"Average= \",avg)\n",
    "\n",
    "# Accepting the number for which occurence is needed\n",
    "var_c=int(input(\"Enter the number for which occurence is needed: \"))\n",
    "print(\"Occurences= \",var_seqA.count(var_c))"
   ]
  },
  {
   "cell_type": "code",
   "execution_count": 2,
   "id": "2cfe0d4d",
   "metadata": {},
   "outputs": [
    {
     "name": "stdout",
     "output_type": "stream",
     "text": [
      "Error:'tuple' object does not support item assignment \n",
      "Explanation: Tuples are immutable in Python, which means their elements cannot be changed after they are created.\n"
     ]
    }
   ],
   "source": [
    "#Question 2\n",
    "\n",
    "# Write a Python code block to create a tuple with five elements.\n",
    "# Try to change one of the elements and handle the error that\n",
    "# occurs. Print a message that explains why the error occurred.\n",
    "\n",
    "\n",
    "# Accepting the tuple\n",
    "tup_example = (1, 2, 3, 4, 5)\n",
    "\n",
    "# Attempting to assign to a tuple\n",
    "try:\n",
    "    tup_example[2] = 10\n",
    "except:\n",
    "    print(\"Error:'tuple' object does not support item assignment \")\n",
    "    print(\"Explanation: Tuples are immutable in Python, which means their elements cannot be changed after they are created.\") "
   ]
  },
  {
   "cell_type": "code",
   "execution_count": 3,
   "id": "51c22a55",
   "metadata": {},
   "outputs": [
    {
     "name": "stdin",
     "output_type": "stream",
     "text": [
      "Enter the year: (type 'exit' to exit without error) 1\n",
      "Enter the winner:  a\n",
      "Enter the year: (type 'exit' to exit without error) 2\n",
      "Enter the winner:  b\n",
      "Enter the year: (type 'exit' to exit without error) 3\n",
      "Enter the winner:  a\n",
      "Enter the year: (type 'exit' to exit without error) 4\n",
      "Enter the winner:  c\n",
      "Enter the year: (type 'exit' to exit without error) exit\n"
     ]
    },
    {
     "name": "stdout",
     "output_type": "stream",
     "text": [
      "Cricket World Cup Winners: \n",
      "{1: 'a', 2: 'b', 3: 'a', 4: 'c'}\n",
      "Best Performing Country:  a\n",
      "Unique Set of Countries:  {'a', 'b', 'c'}\n"
     ]
    }
   ],
   "source": [
    "#Question 3\n",
    "\n",
    "\n",
    "# Write a Python code block to create a dictionary of cricket World\n",
    "# Cup winners. Let the key be the year; the value is the country that\n",
    "# won the World Cup that year. Print the name of the bestperforming country. Display the unique list of countries that\n",
    "# have won the World Cup.\n",
    "\n",
    "\n",
    "#Accepting the countries and years\n",
    "var_seq_Years=[]\n",
    "var_seq_Winners=[]\n",
    "dict_Cricket_World_Cup_Winners={}\n",
    "while True:\n",
    "    var_year=input(\"Enter the year: (type 'exit' to exit without error)\")\n",
    "    if(var_year==\"exit\"):\n",
    "        break\n",
    "    else:\n",
    "        var_seq_Years.append(int(var_year))\n",
    "    var_winner=input(\"Enter the winner: \")\n",
    "    var_seq_Winners.append(var_winner)\n",
    "dict_Cricket_World_Cup_Winners=dict(zip(var_seq_Years,var_seq_Winners))\n",
    "\n",
    "# Operations to get the result\n",
    "dict_temp={}\n",
    "for value in set(dict_Cricket_World_Cup_Winners.values()):\n",
    "    dict_temp[value]=0\n",
    "    for key in dict_Cricket_World_Cup_Winners.values():\n",
    "        if(key==value):\n",
    "            dict_temp[value]+=1\n",
    "dict_temp=zip(dict_temp.values(),dict_temp.keys())\n",
    "var_times,var_country=max(dict_temp)\n",
    "\n",
    "#Printing the output\n",
    "print(\"Cricket World Cup Winners: \")\n",
    "print(dict_Cricket_World_Cup_Winners)\n",
    "print(\"Best Performing Country: \",var_country)\n",
    "print(\"Unique Set of Countries: \",set(dict_Cricket_World_Cup_Winners.values()))"
   ]
  },
  {
   "cell_type": "code",
   "execution_count": 4,
   "id": "7051d88f",
   "metadata": {},
   "outputs": [
    {
     "name": "stdin",
     "output_type": "stream",
     "text": [
      "Enter a sentence:  hello this is a this is a program program this a\n"
     ]
    },
    {
     "name": "stdout",
     "output_type": "stream",
     "text": [
      "{'is': 2, 'hello': 1, 'a': 3, 'this': 3, 'program': 2}\n"
     ]
    }
   ],
   "source": [
    "#Question 4\n",
    "\n",
    "# Write a Python code block that inputs a sentence from the user.\n",
    "# Count the frequency of each word in the sentence and store the\n",
    "# result in a dictionary. Prints the dictionary with words as keys\n",
    "# and their frequencies as values.\n",
    "\n",
    "\n",
    "# Accepting the sentence\n",
    "sentence=input(\"Enter a sentence: \")\n",
    "var_sentence=sentence.split(\" \")\n",
    "\n",
    "# Operations to get result\n",
    "dict_occurence={}\n",
    "var_words={}\n",
    "var_occurence=[]\n",
    "for value in set(var_sentence):\n",
    "    var_words[value]=0\n",
    "    for i in var_sentence:\n",
    "        if(i==value):\n",
    "            var_words[value]+=1\n",
    "dict_occurence=dict(zip(var_words.keys(),var_words.values()))\n",
    "\n",
    "# Printing the output\n",
    "print(dict_occurence)"
   ]
  },
  {
   "cell_type": "code",
   "execution_count": 6,
   "id": "71d574c0-b69c-4101-a107-670e3e45fa56",
   "metadata": {},
   "outputs": [
    {
     "name": "stdin",
     "output_type": "stream",
     "text": [
      "Enter the numbers of first set:  1 5 6 4\n",
      "Enter the numbers of second set:  4 6 9\n"
     ]
    },
    {
     "name": "stdout",
     "output_type": "stream",
     "text": [
      "Set X=  {'1', '4', '5', '6'}\n",
      "Set Y=  {'9', '4', '6'}\n",
      "Union=  {'1', '4', '5', '9', '6'}\n",
      "Intersection=  {'4', '6'}\n",
      "Difference X-Y=  {'1', '5'}\n",
      "Difference Y-X=  {'9'}\n"
     ]
    }
   ],
   "source": [
    "#Question 5\n",
    "\n",
    "# Write a Python code block to input numbers into two sets.\n",
    "# Perform union, intersection, and difference operations on the sets\n",
    "# and print the results. \n",
    "\n",
    "# Accepting input\n",
    "set_X=input(\"Enter the numbers of first set: \").split()\n",
    "set_Y=input(\"Enter the numbers of second set: \").split()\n",
    "\n",
    "# Operations and printing the result\n",
    "for i in set_X:\n",
    "    i=int(i)\n",
    "for i in set_Y:\n",
    "    i=int(i)\n",
    "set_X=set(set_X)\n",
    "set_Y=set(set_Y)\n",
    "set_Union=set_X.union(set_Y)\n",
    "set_Intersection=set_X.intersection(set_Y)\n",
    "set_Difference=set_X.difference(set_Y)\n",
    "set_Inverse_Difference=set_Y.difference(set_X)\n",
    "print(\"Set X= \",set_X)\n",
    "print(\"Set Y= \",set_Y)\n",
    "print(\"Union= \",set_Union)\n",
    "print(\"Intersection= \",set_Intersection)\n",
    "print(\"Difference X-Y= \",set_Difference)\n",
    "print(\"Difference Y-X= \",set_Inverse_Difference)"
   ]
  }
 ],
 "metadata": {
  "kernelspec": {
   "display_name": "Python 3 (ipykernel)",
   "language": "python",
   "name": "python3"
  },
  "language_info": {
   "codemirror_mode": {
    "name": "ipython",
    "version": 3
   },
   "file_extension": ".py",
   "mimetype": "text/x-python",
   "name": "python",
   "nbconvert_exporter": "python",
   "pygments_lexer": "ipython3",
   "version": "3.13.1"
  }
 },
 "nbformat": 4,
 "nbformat_minor": 5
}
