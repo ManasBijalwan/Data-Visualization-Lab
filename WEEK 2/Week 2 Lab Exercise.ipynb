{
 "cells": [
  {
   "cell_type": "markdown",
   "id": "c2d610d9-3e38-48c6-8708-6b3a4137bebc",
   "metadata": {},
   "source": [
    "Data Visuaization BTech Computer Science Stream;\n",
    "January 2025 Week 2 Lab Exercise-Python built-in Data structures, Functions, modules,\n",
    "packagess;\n",
    "Name: Manas Bijalwan;\n",
    "Reg Number- 240905402; \n",
    "Date: 23/01/2025"
   ]
  },
  {
   "cell_type": "raw",
   "id": "6bd97878-ae6c-4dd3-9e55-70af23969d87",
   "metadata": {},
   "source": [
    "# Data Visuaization\n",
    "# BTech Computer Science Stream, January 2025\n",
    "# Week 2 Lab Exercises- Python built-in Data structures, Functions, modules,\n",
    "packages\n",
    "# Name: Manas Bijalwan, Reg Number- 240905402, Date: 23/01/2025"
   ]
  },
  {
   "cell_type": "code",
   "execution_count": 1,
   "id": "ed3ff59d-1097-4149-9e88-020f4e0564b5",
   "metadata": {},
   "outputs": [
    {
     "name": "stdout",
     "output_type": "stream",
     "text": [
      "Enter a number: (type exit to exit)\n"
     ]
    },
    {
     "name": "stdin",
     "output_type": "stream",
     "text": [
      " 3\n"
     ]
    },
    {
     "name": "stdout",
     "output_type": "stream",
     "text": [
      "Enter a number: (type exit to exit)\n"
     ]
    },
    {
     "name": "stdin",
     "output_type": "stream",
     "text": [
      " 4\n"
     ]
    },
    {
     "name": "stdout",
     "output_type": "stream",
     "text": [
      "Enter a number: (type exit to exit)\n"
     ]
    },
    {
     "name": "stdin",
     "output_type": "stream",
     "text": [
      " 5\n"
     ]
    },
    {
     "name": "stdout",
     "output_type": "stream",
     "text": [
      "Enter a number: (type exit to exit)\n"
     ]
    },
    {
     "name": "stdin",
     "output_type": "stream",
     "text": [
      " 12\n"
     ]
    },
    {
     "name": "stdout",
     "output_type": "stream",
     "text": [
      "Enter a number: (type exit to exit)\n"
     ]
    },
    {
     "name": "stdin",
     "output_type": "stream",
     "text": [
      " exit\n"
     ]
    },
    {
     "name": "stdout",
     "output_type": "stream",
     "text": [
      "12\n",
      "3\n",
      "24\n",
      "6.0\n"
     ]
    },
    {
     "name": "stdin",
     "output_type": "stream",
     "text": [
      "Enter the number for which occurence is needed:  4\n"
     ]
    },
    {
     "name": "stdout",
     "output_type": "stream",
     "text": [
      "1\n"
     ]
    }
   ],
   "source": [
    "# Write a Python code block that inputs numbers into a list. Print\n",
    "# the largest, smallest, the sum, and the average of the numbers.\n",
    "# Count occurrences of a specific number in the list.\n",
    "\n",
    "var_seqA=[]\n",
    "while True:\n",
    "    print(\"Enter a number: (type exit to exit)\")\n",
    "    i=input()\n",
    "    if(i=='exit'):\n",
    "        break\n",
    "    else:\n",
    "        var_seqA.append(int(i))\n",
    "        large=var_seqA[0]\n",
    "        small=var_seqA[0]\n",
    "        sum=0\n",
    "for i in var_seqA:\n",
    "    if i>large:\n",
    "        large=i\n",
    "    elif i<small:\n",
    "        small=i\n",
    "    sum+=i\n",
    "print(large)\n",
    "print(small)\n",
    "print(sum)\n",
    "avg=sum/len(var_seqA)\n",
    "print(avg)\n",
    "c=int(input(\"Enter the number for which occurence is needed: \"))\n",
    "print(var_seqA.count(c))"
   ]
  },
  {
   "cell_type": "code",
   "execution_count": 2,
   "id": "cfd07e86-1dfc-4030-9d6a-834b029b9d78",
   "metadata": {},
   "outputs": [
    {
     "name": "stdout",
     "output_type": "stream",
     "text": [
      "Error: 'tuple' object does not support item assignment\n",
      "Explanation: Tuples are immutable in Python, which means their elements cannot be changed after they are created.\n"
     ]
    }
   ],
   "source": [
    "# Write a Python code block to create a tuple with five elements.\n",
    "# Try to change one of the elements and handle the error that\n",
    "# occurs. Print a message that explains why the error occurred.\n",
    "\n",
    "tup_example = (1, 2, 3, 4, 5)\n",
    "try:\n",
    "    tup_example[2] = 10\n",
    "except TypeError as error:\n",
    "    print(f\"Error: {error}\")\n",
    "    print(\"Explanation: Tuples are immutable in Python, which means their elements cannot be changed after they are created.\")"
   ]
  },
  {
   "cell_type": "code",
   "execution_count": 6,
   "id": "109b715d-fdc0-4c53-9d01-5cf17fba5c2b",
   "metadata": {},
   "outputs": [
    {
     "name": "stdout",
     "output_type": "stream",
     "text": [
      "Australia\n",
      "{'England', 'Pakistan', 'India', 'West Indies', 'Australia', 'Sri Lanka'}\n"
     ]
    }
   ],
   "source": [
    "# Write a Python code block to create a dictionary of cricket World\n",
    "# Cup winners. Let the key be the year; the value is the country that\n",
    "# won the World Cup that year. Print the name of the bestperforming country. Display the unique list of countries that\n",
    "# have won the World Cup\n",
    "\n",
    "from collections import Counter\n",
    "dict_Cricket_World_Cup_Winners={\n",
    "    1975:\"West Indies\",\n",
    "    1979:\"West Indies\",\n",
    "    1983:\"India\",\n",
    "    1987:\"Australia\",\n",
    "    1992:\"Pakistan\",\n",
    "    1996:\"Sri Lanka\",\n",
    "    1999:\"Australia\",\n",
    "    2003:\"Australia\",\n",
    "    2007:\"Australia\",\n",
    "    2011:\"India\",\n",
    "    2015:\"Australia\",\n",
    "    2019:\"England\",\n",
    "    2023:\"Australia\"\n",
    "}\n",
    "var_instance=Counter(dict_Cricket_World_Cup_Winners.values())\n",
    "common,count=var_instance.most_common(1)[0]\n",
    "print(common)\n",
    "unique=set(dict_Cricket_World_Cup_Winners.values())\n",
    "print(unique)"
   ]
  },
  {
   "cell_type": "code",
   "execution_count": 7,
   "id": "a41704d0-b133-48c8-b753-ebfe8ba81448",
   "metadata": {},
   "outputs": [
    {
     "name": "stdin",
     "output_type": "stream",
     "text": [
      "Enter a sentence:  hello this this this is a hello hello this is a a is a a\n"
     ]
    },
    {
     "name": "stdout",
     "output_type": "stream",
     "text": [
      "{'hello': 3, 'this': 4, 'is': 3, 'a': 5}\n"
     ]
    }
   ],
   "source": [
    "# Write a Python code block that inputs a sentence from the user.\n",
    "# Count the frequency of each word in the sentence and store the\n",
    "# result in a dictionary. Prints the dictionary with words as keys\n",
    "# and their frequencies as values.\n",
    "\n",
    "from collections import Counter\n",
    "sentence=input(\"Enter a sentence: \")\n",
    "var_sentence=sentence.split()\n",
    "dict_occurence={}\n",
    "var_keys=Counter(var_sentence)\n",
    "var_count=list(var_keys.values())\n",
    "i=0\n",
    "for key in var_keys.keys():\n",
    "    dict_occurence[key]=key\n",
    "    while True:\n",
    "        dict_occurence[key]=var_count[i]\n",
    "        i+=1\n",
    "        break\n",
    "print(dict_occurence)"
   ]
  },
  {
   "cell_type": "markdown",
   "id": "2afa18ca-87be-4833-b552-264b2585014b",
   "metadata": {},
   "source": [
    "# Write a Python code block to input numbers into two sets.\n",
    "# Perform union, intersection, and difference operations on the sets\n",
    "# and print the results. \n",
    "\n",
    "var_seqX=[]\n",
    "var_seqY=[]\n",
    "while True:\n",
    "    i=input(\"Enter the values for first set: (Type 'exit' to exit)\")\n",
    "    if(i=='exit'):\n",
    "        break\n",
    "    else:\n",
    "        var_seqX.append(int(i))\n",
    "var_seqX=set(var_seqX)\n",
    "while True:\n",
    "    i=input(\"Enter the values for second set: (Type 'exit' to exit)\")\n",
    "    if(i=='exit'):\n",
    "        break\n",
    "    else:\n",
    "        var_seqY.append(int(i))\n",
    "var_seqY=set(var_seqY)\n",
    "var_Union=set(var_seqX).union(set(var_seqY))\n",
    "var_Intersection=var_seqX.intersection(var_seqY)\n",
    "var_Difference=var_seqX.difference(var_seqY)\n",
    "print(\"Union= \",var_Union)\n",
    "print(\"Intersection= \",var_Intersection)\n",
    "print(\"Difference= \",var_Difference)"
   ]
  }
 ],
 "metadata": {
  "kernelspec": {
   "display_name": "Python 3 (ipykernel)",
   "language": "python",
   "name": "python3"
  },
  "language_info": {
   "codemirror_mode": {
    "name": "ipython",
    "version": 3
   },
   "file_extension": ".py",
   "mimetype": "text/x-python",
   "name": "python",
   "nbconvert_exporter": "python",
   "pygments_lexer": "ipython3",
   "version": "3.13.1"
  }
 },
 "nbformat": 4,
 "nbformat_minor": 5
}
