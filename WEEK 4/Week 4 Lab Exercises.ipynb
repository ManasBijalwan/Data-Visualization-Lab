{
 "cells": [
  {
   "cell_type": "markdown",
   "id": "f48c1b20",
   "metadata": {},
   "source": [
    "Data Visuaization BTech Computer Science Stream;\n",
    "February 2025 Week 4 Lab Exercises-Pandas, Data loading, Storage and File formats\n",
    "Exercises\n",
    "Name: Manas Bijalwan;\n",
    "Reg Number- 240905402; \n",
    "Date: 06/02/2025"
   ]
  },
  {
   "cell_type": "code",
   "execution_count": 41,
   "id": "874570cf",
   "metadata": {},
   "outputs": [],
   "source": [
    "# Data Visuaization\n",
    "# BTech Computer Science Stream, February 2025\n",
    "# Week 1 Lab Exercises- Pandas, Data loading, Storage and File formats Exercises\n",
    "# Name: Manas Bijalwan, Reg Number- 240905402, Date: 16/01/2025"
   ]
  },
  {
   "cell_type": "code",
   "execution_count": 2,
   "id": "7b5ced42",
   "metadata": {},
   "outputs": [],
   "source": [
    "import pandas as pd"
   ]
  },
  {
   "cell_type": "code",
   "execution_count": 3,
   "id": "75845b06",
   "metadata": {},
   "outputs": [
    {
     "name": "stdout",
     "output_type": "stream",
     "text": [
      "Monday       23\n",
      "Tuesday      24\n",
      "Wednesday    25\n",
      "Thursday     28\n",
      "Friday       29\n",
      "Saturday     26\n",
      "Sunday       35\n",
      "dtype: int64\n"
     ]
    }
   ],
   "source": [
    "# Q1.\n",
    "# Create a Series from a list of integers representing daily temperatures (in Celsius) over a week. \n",
    "# Assign index labels as day of the week.\n",
    "\n",
    "#Creating series and printing it\n",
    "ser_A=pd.Series([23,24,25,28,29,26,35],index=['Monday','Tuesday','Wednesday','Thursday','Friday','Saturday','Sunday'])\n",
    "print(ser_A)"
   ]
  },
  {
   "cell_type": "code",
   "execution_count": 4,
   "id": "83041027",
   "metadata": {},
   "outputs": [
    {
     "name": "stdout",
     "output_type": "stream",
     "text": [
      "27.142857142857142\n"
     ]
    }
   ],
   "source": [
    "# a. Find and print the average (mean) temperature for the week.\n",
    "\n",
    "#Finding mean\n",
    "var_mean=ser_A.mean()\n",
    "#Printing mean\n",
    "print(var_mean)"
   ]
  },
  {
   "cell_type": "code",
   "execution_count": 17,
   "id": "d242657c",
   "metadata": {},
   "outputs": [
    {
     "name": "stdout",
     "output_type": "stream",
     "text": [
      "23     Monday\n",
      "35     Sunday\n"
     ]
    }
   ],
   "source": [
    "# b. Identify and print the maximum and minimum temperatures and their respective days.\n",
    "\n",
    "#minimum temperature\n",
    "day_max=ser_A.idxmax()\n",
    "print(min(ser_A),\"   \",day_min)\n",
    "\n",
    "#maximum temperature\n",
    "day_min=ser_A.idxmin()\n",
    "print(max(ser_A),\"   \",day_max)"
   ]
  },
  {
   "cell_type": "code",
   "execution_count": 44,
   "id": "5d0be2c7",
   "metadata": {},
   "outputs": [
    {
     "name": "stdout",
     "output_type": "stream",
     "text": [
      "Enter Spefic Temperature Value: 34\n",
      "Sunday    35\n",
      "dtype: int64\n"
     ]
    }
   ],
   "source": [
    " # c. Display the temperatures greater than a specific value.\n",
    "\n",
    "#Creating Boolean Series and passing it through the series as argument to get the list\n",
    "specific_value=int(input(\"Enter Spefic Temperature Value: \"))\n",
    "high_temp_average=ser_A[ser_A>specific_value]\n",
    "\n",
    "#Printing the list\n",
    "print(high_temp_average)"
   ]
  },
  {
   "cell_type": "code",
   "execution_count": 7,
   "id": "c8863610",
   "metadata": {},
   "outputs": [
    {
     "name": "stdout",
     "output_type": "stream",
     "text": [
      "Monday       73.4\n",
      "Tuesday      75.2\n",
      "Wednesday    77.0\n",
      "Thursday     82.4\n",
      "Friday       84.2\n",
      "Saturday     78.8\n",
      "Sunday       95.0\n",
      "dtype: float64\n"
     ]
    }
   ],
   "source": [
    "# d. Convert all temperatures to Fahrenheit.\n",
    "\n",
    "#Converting\n",
    "ser_Farenheit=ser_A*9/5+32\n",
    "#Printing\n",
    "print(ser_Farenheit)"
   ]
  },
  {
   "cell_type": "code",
   "execution_count": 8,
   "id": "165c3350",
   "metadata": {},
   "outputs": [
    {
     "name": "stdout",
     "output_type": "stream",
     "text": [
      "Thursday    28\n",
      "Friday      29\n",
      "Sunday      35\n",
      "dtype: int64\n"
     ]
    }
   ],
   "source": [
    "# e. Print the days had temperatures above the average.\n",
    "\n",
    "#Getting Series of the days having a greater temperature than average\n",
    "temp_above_average=ser_A[ser_A>var_mean]\n",
    "#Print\n",
    "print(temp_above_average)"
   ]
  },
  {
   "cell_type": "code",
   "execution_count": 34,
   "id": "659f1347",
   "metadata": {},
   "outputs": [
    {
     "name": "stdout",
     "output_type": "stream",
     "text": [
      "   Roll Number     Name  Gender  Marks1  Marks2  Marks3\n",
      "0          101    Aarav    Male      85      80      12\n",
      "1          102   Bhavya  Female      78      84       8\n",
      "2          103   Charan    Male      92       4      94\n",
      "3          104     Diya  Female      88      91      87\n",
      "4          105   Eshaan    Male       3       8      79\n",
      "5          106  Falguni  Female      81      83      82\n",
      "6          107    Gopal    Male      95      97      96\n",
      "7          108     Hina  Female      79       7      81\n",
      "8          109  Ishaani  Female      84      86      11\n",
      "9          110     Jiya  Female      10      88      92\n"
     ]
    }
   ],
   "source": [
    "#Q2.\n",
    "\n",
    "# Create a data frame with details of 10 students and columns as Roll Number, Name, Gender, Marks1, Marks2, Marks3.\n",
    "\n",
    "data = {\n",
    "    \"Roll Number\": [101, 102, 103, 104, 105, 106, 107, 108, 109, 110],\n",
    "    \"Name\": [\"Aarav\", \"Bhavya\", \"Charan\", \"Diya\", \"Eshaan\", \"Falguni\", \"Gopal\", \"Hina\", \"Ishaani\", \"Jiya\"],\n",
    "    \"Gender\": [\"Male\", \"Female\", \"Male\", \"Female\", \"Male\", \"Female\", \"Male\", \"Female\", \"Female\", \"Female\"],\n",
    "    \"Marks1\": [85, 78, 92, 88, 3, 81, 95, 79, 84, 10],\n",
    "    \"Marks2\": [80, 84, 4, 91, 8, 83, 97, 7, 86, 88],\n",
    "    \"Marks3\": [12, 8, 94, 87, 79, 82, 96, 81, 11, 92],\n",
    "}\n",
    "df = pd.DataFrame(data)\n",
    "\n",
    "#Printing Data Frame\n",
    "print(df)"
   ]
  },
  {
   "cell_type": "code",
   "execution_count": 35,
   "id": "8623eeea",
   "metadata": {},
   "outputs": [
    {
     "name": "stdout",
     "output_type": "stream",
     "text": [
      "   Roll Number     Name  Gender  Marks1  Marks2  Marks3  Total Marks\n",
      "0          101    Aarav    Male      85      80      12          177\n",
      "1          102   Bhavya  Female      78      84       8          170\n",
      "2          103   Charan    Male      92       4      94          190\n",
      "3          104     Diya  Female      88      91      87          266\n",
      "4          105   Eshaan    Male       3       8      79           90\n",
      "5          106  Falguni  Female      81      83      82          246\n",
      "6          107    Gopal    Male      95      97      96          288\n",
      "7          108     Hina  Female      79       7      81          167\n",
      "8          109  Ishaani  Female      84      86      11          181\n",
      "9          110     Jiya  Female      10      88      92          190\n"
     ]
    }
   ],
   "source": [
    "# a. Create a new column with total marks\n",
    "\n",
    "df[\"Total Marks\"] = df[\"Marks1\"] + df[\"Marks2\"] + df[\"Marks3\"]\n",
    "print(df)"
   ]
  },
  {
   "cell_type": "code",
   "execution_count": 36,
   "id": "ae1ed46a",
   "metadata": {},
   "outputs": [
    {
     "name": "stdout",
     "output_type": "stream",
     "text": [
      "3\n"
     ]
    }
   ],
   "source": [
    "# b. Find the lowest marks in Marks1\n",
    "\n",
    "lowest_marks1 = df[\"Marks1\"].min()\n",
    "#Printing Lowest Marks\n",
    "print(lowest_marks1)"
   ]
  },
  {
   "cell_type": "code",
   "execution_count": 37,
   "id": "bd9eaf91",
   "metadata": {},
   "outputs": [
    {
     "name": "stdout",
     "output_type": "stream",
     "text": [
      "97\n"
     ]
    }
   ],
   "source": [
    "# c. Find the Highest marks in Marks2\n",
    "\n",
    "#Finding Maximum Marks in Marks2\n",
    "highest_marks2 = df[\"Marks2\"].max()\n",
    "#Printing\n",
    "print(highest_marks2)"
   ]
  },
  {
   "cell_type": "code",
   "execution_count": 38,
   "id": "22f28423",
   "metadata": {},
   "outputs": [
    {
     "name": "stdout",
     "output_type": "stream",
     "text": [
      "64.2\n"
     ]
    }
   ],
   "source": [
    "# d. Find the average marks in Marks3\n",
    "\n",
    "#Finding average in Marks3\n",
    "average_marks3 = df[\"Marks3\"].mean()\n",
    "#Printing the result\n",
    "print(average_marks3)"
   ]
  },
  {
   "cell_type": "code",
   "execution_count": 39,
   "id": "4385acfd",
   "metadata": {},
   "outputs": [
    {
     "name": "stdout",
     "output_type": "stream",
     "text": [
      "Gopal\n"
     ]
    }
   ],
   "source": [
    "# e. Find student name with highest average\n",
    "\n",
    "#Finding name with highest average\n",
    "df[\"Average Marks\"]=df[\"Total Marks\"]/3\n",
    "var_Topper=df.loc[df[\"Average Marks\"].idxmax(),\"Name\"]\n",
    "#Printing the name\n",
    "print(var_Topper)"
   ]
  },
  {
   "cell_type": "code",
   "execution_count": 45,
   "id": "9f33a1ac",
   "metadata": {},
   "outputs": [
    {
     "name": "stdout",
     "output_type": "stream",
     "text": [
      "3\n"
     ]
    }
   ],
   "source": [
    "# f. Find how many students failed in Marks2 (<40)\n",
    "\n",
    "#Finding the number of students who failed in Marks2\n",
    "var_failed=(df[\"Marks2\"]<40).sum()\n",
    "#Printing result\n",
    "print(var_failed)"
   ]
  }
 ],
 "metadata": {
  "kernelspec": {
   "display_name": "Python 3 (ipykernel)",
   "language": "python",
   "name": "python3"
  },
  "language_info": {
   "codemirror_mode": {
    "name": "ipython",
    "version": 3
   },
   "file_extension": ".py",
   "mimetype": "text/x-python",
   "name": "python",
   "nbconvert_exporter": "python",
   "pygments_lexer": "ipython3",
   "version": "3.9.13"
  }
 },
 "nbformat": 4,
 "nbformat_minor": 5
}
